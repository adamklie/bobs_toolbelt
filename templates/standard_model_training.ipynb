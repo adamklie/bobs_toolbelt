{
 "cells": [
  {
   "cell_type": "markdown",
   "metadata": {},
   "source": [
    "# Chapter3 - IMBD Classification"
   ]
  },
  {
   "cell_type": "markdown",
   "metadata": {
    "toc": true
   },
   "source": [
    "<h1>Table of Contents<span class=\"tocSkip\"></span></h1>\n",
    "<div class=\"toc\"><ul class=\"toc-item\"><li><span><a href=\"#Chapter3---IMBD-Classification\" data-toc-modified-id=\"Chapter3---IMBD-Classification-1\"><span class=\"toc-item-num\">1&nbsp;&nbsp;</span>Chapter3 - IMBD Classification</a></span><ul class=\"toc-item\"><li><span><a href=\"#Set-up\" data-toc-modified-id=\"Set-up-1.1\"><span class=\"toc-item-num\">1.1&nbsp;&nbsp;</span>Set-up</a></span></li><li><span><a href=\"#Load-datasets\" data-toc-modified-id=\"Load-datasets-1.2\"><span class=\"toc-item-num\">1.2&nbsp;&nbsp;</span>Load datasets</a></span></li><li><span><a href=\"#Preprocess-data\" data-toc-modified-id=\"Preprocess-data-1.3\"><span class=\"toc-item-num\">1.3&nbsp;&nbsp;</span>Preprocess data</a></span></li><li><span><a href=\"#Build-model\" data-toc-modified-id=\"Build-model-1.4\"><span class=\"toc-item-num\">1.4&nbsp;&nbsp;</span>Build model</a></span></li><li><span><a href=\"#Train-model\" data-toc-modified-id=\"Train-model-1.5\"><span class=\"toc-item-num\">1.5&nbsp;&nbsp;</span>Train model</a></span></li><li><span><a href=\"#Test-model\" data-toc-modified-id=\"Test-model-1.6\"><span class=\"toc-item-num\">1.6&nbsp;&nbsp;</span>Test model</a></span></li></ul></li></ul></div>"
   ]
  },
  {
   "cell_type": "markdown",
   "metadata": {},
   "source": [
    "## Set-up"
   ]
  },
  {
   "cell_type": "code",
   "execution_count": 5,
   "metadata": {
    "ExecuteTime": {
     "end_time": "2021-04-26T06:21:06.386031Z",
     "start_time": "2021-04-26T06:21:06.224110Z"
    }
   },
   "outputs": [],
   "source": [
    "# Classics\n",
    "import pandas as pd\n",
    "import numpy as np\n",
    "import matplotlib.pyplot as plt\n",
    "\n",
    "# Autoreload extension\n",
    "if 'autoreload' not in get_ipython().extension_manager.loaded:\n",
    "    %load_ext autoreload\n",
    "    \n",
    "%autoreload 2"
   ]
  },
  {
   "cell_type": "markdown",
   "metadata": {},
   "source": [
    "## Load datasets"
   ]
  },
  {
   "cell_type": "markdown",
   "metadata": {},
   "source": [
    "## Preprocess data"
   ]
  },
  {
   "cell_type": "markdown",
   "metadata": {},
   "source": [
    "## Build model"
   ]
  },
  {
   "cell_type": "markdown",
   "metadata": {},
   "source": [
    "## Train model"
   ]
  },
  {
   "cell_type": "markdown",
   "metadata": {},
   "source": [
    "## Test model"
   ]
  },
  {
   "cell_type": "markdown",
   "metadata": {},
   "source": [
    "## References"
   ]
  }
 ],
 "metadata": {
  "kernelspec": {
   "display_name": "Python 3",
   "language": "python",
   "name": "python3"
  },
  "language_info": {
   "codemirror_mode": {
    "name": "ipython",
    "version": 3
   },
   "file_extension": ".py",
   "mimetype": "text/x-python",
   "name": "python",
   "nbconvert_exporter": "python",
   "pygments_lexer": "ipython3",
   "version": "3.7.3"
  },
  "toc": {
   "base_numbering": 1,
   "nav_menu": {},
   "number_sections": true,
   "sideBar": true,
   "skip_h1_title": false,
   "title_cell": "Table of Contents",
   "title_sidebar": "Contents",
   "toc_cell": true,
   "toc_position": {},
   "toc_section_display": true,
   "toc_window_display": false
  }
 },
 "nbformat": 4,
 "nbformat_minor": 4
}
